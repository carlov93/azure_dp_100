{
 "cells": [
  {
   "cell_type": "code",
   "execution_count": 1,
   "metadata": {
    "gather": {
     "logged": 1612115442401
    }
   },
   "outputs": [
    {
     "name": "stderr",
     "output_type": "stream",
     "text": [
      "Failure while loading azureml_run_type_providers. Failed to load entrypoint automl = azureml.train.automl.run:AutoMLRun._from_run_dto with exception unknown locale: UTF-8.\n"
     ]
    }
   ],
   "source": [
    "from azureml.core import Workspace\n",
    "from azureml.core import Experiment\n",
    "from azureml.core import Dataset\n",
    "from azureml.core.compute import AmlCompute, ComputeTarget\n",
    "from azureml.core import Environment\n",
    "from azureml.core.conda_dependencies import CondaDependencies\n",
    "from azureml.core import ScriptRunConfig\n",
    "from azureml.core import Model\n",
    "\n",
    "from azureml.exceptions import ComputeTargetException\n",
    "\n",
    "# own modules\n",
    "import sys\n",
    "sys.path.append('../')\n",
    "from config.config_training import script_params_remote"
   ]
  },
  {
   "cell_type": "code",
   "execution_count": 2,
   "metadata": {
    "collapsed": true,
    "gather": {
     "logged": 1612115442481
    },
    "jupyter": {
     "outputs_hidden": false,
     "source_hidden": false
    },
    "nteract": {
     "transient": {
      "deleting": false
     }
    }
   },
   "outputs": [],
   "source": [
    "# important parameters\n",
    "compute_name = 'dp-100-v2'\n",
    "project_folder = '../'"
   ]
  },
  {
   "cell_type": "markdown",
   "metadata": {
    "nteract": {
     "transient": {
      "deleting": false
     }
    }
   },
   "source": [
    "# 1. Configure Workspace"
   ]
  },
  {
   "cell_type": "code",
   "execution_count": 3,
   "metadata": {
    "collapsed": true,
    "gather": {
     "logged": 1612115443658
    },
    "jupyter": {
     "outputs_hidden": false,
     "source_hidden": false
    },
    "nteract": {
     "transient": {
      "deleting": false
     }
    }
   },
   "outputs": [],
   "source": [
    "ws = Workspace.from_config('../config/config.json')"
   ]
  },
  {
   "cell_type": "markdown",
   "metadata": {
    "nteract": {
     "transient": {
      "deleting": false
     }
    }
   },
   "source": [
    "# 2. Configure Compute Target"
   ]
  },
  {
   "cell_type": "code",
   "execution_count": 4,
   "metadata": {
    "collapsed": true,
    "gather": {
     "logged": 1612115445799
    },
    "jupyter": {
     "outputs_hidden": false,
     "source_hidden": false
    },
    "nteract": {
     "transient": {
      "deleting": false
     }
    }
   },
   "outputs": [
    {
     "name": "stdout",
     "output_type": "stream",
     "text": [
      "Comput target exists!\n"
     ]
    }
   ],
   "source": [
    "try:\n",
    "    comput_target = ComputeTarget(workspace=ws, name= compute_name)\n",
    "    print('Comput target exists!')\n",
    "except:\n",
    "    config = AmlCompute.provisioning_configuration(vm_size='STANDARD_DS11_VS2'\n",
    "                                                          ,vm_priority='lowpriority'\n",
    "                                                          ,min_nodes=0\n",
    "                                                          , max_nodes=1)\n",
    "    comput_target = ComputeTarget.create(workspace=ws, name=compute_name, provisioning_configuration=config)\n",
    "    compute_target.wait_for_completion(show_output=True, min_node_count=None, timeout_in_minutes=20)                                       "
   ]
  },
  {
   "cell_type": "markdown",
   "metadata": {
    "nteract": {
     "transient": {
      "deleting": false
     }
    }
   },
   "source": [
    "# 3. Configurate Dependencies"
   ]
  },
  {
   "cell_type": "code",
   "execution_count": 4,
   "metadata": {
    "collapsed": true,
    "gather": {
     "logged": 1612115447887
    },
    "jupyter": {
     "outputs_hidden": false,
     "source_hidden": false
    },
    "nteract": {
     "transient": {
      "deleting": false
     }
    }
   },
   "outputs": [],
   "source": [
    "env = Environment('user-managed-env')\n",
    "env.python.user_managed_dependencies = True"
   ]
  },
  {
   "cell_type": "code",
   "execution_count": 10,
   "metadata": {},
   "outputs": [
    {
     "name": "stdout",
     "output_type": "stream",
     "text": [
      "Package                            Version    \n",
      "---------------------------------- -----------\n",
      "absl-py                            0.7.1      \n",
      "alabaster                          0.7.10     \n",
      "anaconda-client                    1.6.14     \n",
      "anaconda-navigator                 1.9.6      \n",
      "anaconda-project                   0.8.2      \n",
      "appnope                            0.1.0      \n",
      "appscript                          1.0.1      \n",
      "asn1crypto                         0.24.0     \n",
      "astor                              0.7.1      \n",
      "astroid                            1.6.3      \n",
      "astropy                            3.0.2      \n",
      "attrs                              18.1.0     \n",
      "autopep8                           1.4.4      \n",
      "Babel                              2.5.3      \n",
      "backcall                           0.1.0      \n",
      "backports.shutil-get-terminal-size 1.0.0      \n",
      "beautifulsoup4                     4.6.0      \n",
      "bitarray                           0.8.1      \n",
      "bkcharts                           0.2        \n",
      "blaze                              0.11.3     \n",
      "bleach                             2.1.3      \n",
      "bokeh                              0.12.16    \n",
      "boto                               2.48.0     \n",
      "Bottleneck                         1.2.1      \n",
      "cachetools                         3.1.0      \n",
      "certifi                            2019.3.9   \n",
      "cffi                               1.11.5     \n",
      "chardet                            3.0.4      \n",
      "click                              6.7        \n",
      "cloudpickle                        0.5.3      \n",
      "clyent                             1.2.2      \n",
      "colorama                           0.3.9      \n",
      "conda                              4.6.14     \n",
      "conda-build                        3.10.5     \n",
      "conda-verify                       2.0.0      \n",
      "contextlib2                        0.5.5      \n",
      "cryptography                       2.6.1      \n",
      "cycler                             0.10.0     \n",
      "Cython                             0.28.2     \n",
      "cytoolz                            0.9.0.1    \n",
      "dask                               0.17.5     \n",
      "datashape                          0.5.4      \n",
      "decorator                          4.3.0      \n",
      "distributed                        1.21.8     \n",
      "docutils                           0.14       \n",
      "entrypoints                        0.2.3      \n",
      "et-xmlfile                         1.0.1      \n",
      "fastcache                          1.0.2      \n",
      "filelock                           3.0.4      \n",
      "Flask                              1.0.2      \n",
      "Flask-Cors                         3.0.4      \n",
      "Flask-Moment                       0.6.0      \n",
      "flatbuffers                        1.10       \n",
      "funcsigs                           1.0.2      \n",
      "gast                               0.2.2      \n",
      "gevent                             1.3.0      \n",
      "glob2                              0.6        \n",
      "gmpy2                              2.0.8      \n",
      "google                             2.0.1      \n",
      "google-api-python-client           1.7.8      \n",
      "google-auth                        1.6.3      \n",
      "google-auth-httplib2               0.0.3      \n",
      "greenlet                           0.4.13     \n",
      "grpcio                             1.16.1     \n",
      "h5py                               2.7.1      \n",
      "heapdict                           1.0.0      \n",
      "html5lib                           1.0.1      \n",
      "httplib2                           0.12.1     \n",
      "idna                               2.6        \n",
      "imageio                            2.3.0      \n",
      "imagesize                          1.0.0      \n",
      "ipykernel                          4.8.2      \n",
      "ipython                            6.4.0      \n",
      "ipython-genutils                   0.2.0      \n",
      "ipywidgets                         7.2.1      \n",
      "isort                              4.3.4      \n",
      "itsdangerous                       0.24       \n",
      "jdcal                              1.4        \n",
      "jedi                               0.12.0     \n",
      "Jinja2                             2.10       \n",
      "jsonschema                         2.6.0      \n",
      "jupyter                            1.0.0      \n",
      "jupyter-client                     5.2.3      \n",
      "jupyter-console                    5.2.0      \n",
      "jupyter-contrib-core               0.3.3      \n",
      "jupyter-contrib-nbextensions       0.5.1      \n",
      "jupyter-core                       4.4.0      \n",
      "jupyter-highlight-selected-word    0.2.0      \n",
      "jupyter-latex-envs                 1.4.4      \n",
      "jupyter-nbextensions-configurator  0.4.1      \n",
      "jupyterlab                         0.35.4     \n",
      "jupyterlab-git                     0.5.0      \n",
      "jupyterlab-launcher                0.10.5     \n",
      "jupyterlab-server                  0.2.0      \n",
      "Keras                              2.2.4      \n",
      "Keras-Applications                 1.0.8      \n",
      "Keras-Preprocessing                1.1.0      \n",
      "kiwisolver                         1.0.1      \n",
      "lazy-object-proxy                  1.3.1      \n",
      "llvmlite                           0.23.1     \n",
      "locket                             0.2.0      \n",
      "lxml                               4.2.1      \n",
      "Markdown                           3.1.1      \n",
      "MarkupSafe                         1.0        \n",
      "matplotlib                         2.2.2      \n",
      "mccabe                             0.6.1      \n",
      "mistune                            0.8.3      \n",
      "mkl-fft                            1.0.0      \n",
      "mkl-random                         1.0.1      \n",
      "mock                               3.0.5      \n",
      "modin                              0.4.0      \n",
      "more-itertools                     4.1.0      \n",
      "mpmath                             1.0.0      \n",
      "msgpack                            0.5.6      \n",
      "msgpack-python                     0.5.6      \n",
      "multipledispatch                   0.5.0      \n",
      "navigator-updater                  0.2.1      \n",
      "nbconvert                          5.3.1      \n",
      "nbformat                           4.4.0      \n",
      "networkx                           2.1        \n",
      "nltk                               3.3        \n",
      "nose                               1.3.7      \n",
      "notebook                           5.5.0      \n",
      "numba                              0.38.0     \n",
      "numexpr                            2.6.5      \n",
      "numpy                              1.14.3     \n",
      "numpydoc                           0.8.0      \n",
      "odo                                0.5.1      \n",
      "olefile                            0.45.1     \n",
      "openpyxl                           2.5.3      \n",
      "packaging                          17.1       \n",
      "pandapower                         1.5.1      \n",
      "pandas                             0.24.1     \n",
      "pandocfilters                      1.4.2      \n",
      "parso                              0.2.0      \n",
      "partd                              0.3.8      \n",
      "path.py                            11.0.1     \n",
      "pathlib2                           2.3.2      \n",
      "patsy                              0.5.0      \n",
      "pep8                               1.7.1      \n",
      "pexpect                            4.5.0      \n",
      "pickleshare                        0.7.4      \n",
      "Pillow                             5.1.0      \n",
      "pip                                19.0.3     \n",
      "pkginfo                            1.4.2      \n",
      "plotly                             2.7.0      \n",
      "pluggy                             0.6.0      \n",
      "ply                                3.11       \n",
      "prompt-toolkit                     1.0.15     \n",
      "protobuf                           3.6.1      \n",
      "psutil                             5.4.5      \n",
      "ptyprocess                         0.5.2      \n",
      "py                                 1.5.3      \n",
      "pyasn1                             0.4.5      \n",
      "pyasn1-modules                     0.2.4      \n",
      "pycodestyle                        2.4.0      \n",
      "pycosat                            0.6.3      \n",
      "pycparser                          2.18       \n",
      "pycrypto                           2.6.1      \n",
      "pycurl                             7.43.0.2   \n",
      "pyflakes                           1.6.0      \n",
      "Pygments                           2.2.0      \n",
      "pylint                             1.8.4      \n",
      "pyodbc                             4.0.23     \n",
      "pyOpenSSL                          18.0.0     \n",
      "pyparsing                          2.2.0      \n",
      "PYPOWER                            5.1.3      \n",
      "PySocks                            1.6.8      \n",
      "pytest                             3.5.1      \n",
      "pytest-arraydiff                   0.2        \n",
      "pytest-astropy                     0.3.0      \n",
      "pytest-doctestplus                 0.1.3      \n",
      "pytest-openfiles                   0.3.0      \n",
      "pytest-remotedata                  0.2.1      \n",
      "python-dateutil                    2.7.3      \n",
      "pytz                               2018.4     \n",
      "PyWavelets                         0.5.2      \n",
      "PyYAML                             3.12       \n",
      "pyzmq                              17.0.0     \n",
      "QtAwesome                          0.4.4      \n",
      "qtconsole                          4.3.1      \n",
      "QtPy                               1.4.1      \n",
      "ray                                0.6.2      \n",
      "redis                              3.2.1      \n",
      "requests                           2.18.4     \n",
      "rope                               0.10.7     \n",
      "rsa                                4.0        \n",
      "ruamel-yaml                        0.15.35    \n",
      "scikit-image                       0.13.1     \n",
      "scikit-learn                       0.19.1     \n",
      "scipy                              1.1.0      \n",
      "seaborn                            0.8.1      \n",
      "Send2Trash                         1.5.0      \n",
      "setuptools                         39.1.0     \n",
      "simplegeneric                      0.8.1      \n",
      "singledispatch                     3.4.0.3    \n",
      "six                                1.11.0     \n",
      "sklearn                            0.0        \n",
      "snowballstemmer                    1.2.1      \n",
      "sortedcollections                  0.6.1      \n",
      "sortedcontainers                   1.5.10     \n",
      "Sphinx                             1.7.4      \n",
      "sphinxcontrib-websupport           1.0.1      \n",
      "spyder                             3.2.8      \n",
      "SQLAlchemy                         1.2.7      \n",
      "statsmodels                        0.9.0      \n",
      "sympy                              1.1.1      \n",
      "tables                             3.4.3      \n",
      "tblib                              1.3.2      \n",
      "tensorboard                        1.13.1     \n",
      "tensorflow                         1.13.1     \n",
      "tensorflow-estimator               1.13.0     \n",
      "termcolor                          1.1.0      \n",
      "terminado                          0.8.1      \n",
      "testpath                           0.3.1      \n",
      "toolz                              0.9.0      \n",
      "torch                              1.1.0      \n",
      "torchvision                        0.2.2.post3\n",
      "tornado                            5.0.2      \n",
      "traitlets                          4.3.2      \n",
      "typing                             3.6.4      \n",
      "unicodecsv                         0.14.1     \n",
      "uritemplate                        3.0.0      \n",
      "urllib3                            1.22       \n",
      "wcwidth                            0.1.7      \n",
      "webencodings                       0.5.1      \n",
      "Werkzeug                           0.14.1     \n",
      "wheel                              0.31.1     \n",
      "widgetsnbextension                 3.2.1      \n",
      "wrapt                              1.10.11    \n",
      "xlrd                               1.1.0      \n",
      "XlsxWriter                         1.0.4      \n",
      "xlwings                            0.11.8     \n",
      "xlwt                               1.2.0      \n",
      "zict                               0.1.3      \n",
      "\u001b[33mYou are using pip version 19.0.3, however version 21.0.1 is available.\n",
      "You should consider upgrading via the 'pip install --upgrade pip' command.\u001b[0m\n"
     ]
    }
   ],
   "source": [
    "!pip list"
   ]
  },
  {
   "cell_type": "markdown",
   "metadata": {
    "nteract": {
     "transient": {
      "deleting": false
     }
    }
   },
   "source": [
    "# 5. Configure Experiment"
   ]
  },
  {
   "cell_type": "code",
   "execution_count": 5,
   "metadata": {
    "collapsed": true,
    "gather": {
     "logged": 1612115454536
    },
    "jupyter": {
     "outputs_hidden": false,
     "source_hidden": false
    },
    "nteract": {
     "transient": {
      "deleting": false
     }
    }
   },
   "outputs": [],
   "source": [
    "src = ScriptRunConfig(source_directory=project_folder\n",
    "                     ,script='./src/train_local.py'\n",
    "                     ,arguments=script_params_remote)"
   ]
  },
  {
   "cell_type": "code",
   "execution_count": 6,
   "metadata": {},
   "outputs": [],
   "source": [
    "src.run_config.target = 'local'\n",
    "src.run_config.environment = env"
   ]
  },
  {
   "cell_type": "code",
   "execution_count": 7,
   "metadata": {
    "collapsed": true,
    "gather": {
     "logged": 1612115457015
    },
    "jupyter": {
     "outputs_hidden": false,
     "source_hidden": false
    },
    "nteract": {
     "transient": {
      "deleting": false
     }
    }
   },
   "outputs": [],
   "source": [
    "experiment = Experiment(workspace=ws, name='test_v5')"
   ]
  },
  {
   "cell_type": "markdown",
   "metadata": {
    "nteract": {
     "transient": {
      "deleting": false
     }
    }
   },
   "source": [
    "# 6. Run Experiment und Monitor Training"
   ]
  },
  {
   "cell_type": "code",
   "execution_count": 8,
   "metadata": {
    "collapsed": true,
    "gather": {
     "logged": 1612115474185
    },
    "jupyter": {
     "outputs_hidden": false,
     "source_hidden": false
    },
    "nteract": {
     "transient": {
      "deleting": false
     }
    }
   },
   "outputs": [],
   "source": [
    "run = experiment.submit(src)"
   ]
  },
  {
   "cell_type": "markdown",
   "metadata": {
    "nteract": {
     "transient": {
      "deleting": false
     }
    }
   },
   "source": [
    "# 7. Add trained motel to workspace"
   ]
  },
  {
   "cell_type": "code",
   "execution_count": 12,
   "metadata": {
    "collapsed": true,
    "gather": {
     "logged": 1612114521530
    },
    "jupyter": {
     "outputs_hidden": false,
     "source_hidden": false
    },
    "nteract": {
     "transient": {
      "deleting": false
     }
    }
   },
   "outputs": [
    {
     "ename": "KeyError",
     "evalue": "'Accuracy'",
     "output_type": "error",
     "traceback": [
      "\u001b[0;31m---------------------------------------------------------------------------\u001b[0m",
      "\u001b[0;31mKeyError\u001b[0m                                  Traceback (most recent call last)",
      "\u001b[0;32m<ipython-input-12-ec93b06159f5>\u001b[0m in \u001b[0;36m<module>\u001b[0;34m\u001b[0m\n\u001b[1;32m      4\u001b[0m                        \u001b[0;34m,\u001b[0m\u001b[0mdescription\u001b[0m\u001b[0;34m=\u001b[0m\u001b[0;34m'First trained model with Azure ML'\u001b[0m\u001b[0;34m\u001b[0m\u001b[0;34m\u001b[0m\u001b[0m\n\u001b[1;32m      5\u001b[0m                        \u001b[0;34m,\u001b[0m\u001b[0mtags\u001b[0m\u001b[0;34m=\u001b[0m\u001b[0;34m{\u001b[0m\u001b[0;34m'data-format'\u001b[0m\u001b[0;34m:\u001b[0m \u001b[0;34m'csv'\u001b[0m\u001b[0;34m}\u001b[0m\u001b[0;34m\u001b[0m\u001b[0;34m\u001b[0m\u001b[0m\n\u001b[0;32m----> 6\u001b[0;31m                        \u001b[0;34m,\u001b[0m\u001b[0mproperties\u001b[0m\u001b[0;34m=\u001b[0m\u001b[0;34m{\u001b[0m\u001b[0;34m'Accuracy'\u001b[0m\u001b[0;34m:\u001b[0m \u001b[0mrun\u001b[0m\u001b[0;34m.\u001b[0m\u001b[0mget_metrics\u001b[0m\u001b[0;34m(\u001b[0m\u001b[0;34m)\u001b[0m\u001b[0;34m[\u001b[0m\u001b[0;34m'Accuracy'\u001b[0m\u001b[0;34m]\u001b[0m\u001b[0;34m}\u001b[0m\u001b[0;34m\u001b[0m\u001b[0;34m\u001b[0m\u001b[0m\n\u001b[0m\u001b[1;32m      7\u001b[0m                        \u001b[0;34m,\u001b[0m\u001b[0mmodel_framework\u001b[0m\u001b[0;34m=\u001b[0m\u001b[0mModel\u001b[0m\u001b[0;34m.\u001b[0m\u001b[0mFramework\u001b[0m\u001b[0;34m.\u001b[0m\u001b[0mSCIKITLEARN\u001b[0m  \u001b[0;31m# Framework used to create the model.\u001b[0m\u001b[0;34m\u001b[0m\u001b[0;34m\u001b[0m\u001b[0m\n\u001b[1;32m      8\u001b[0m                        \u001b[0;34m,\u001b[0m\u001b[0mmodel_framework_version\u001b[0m\u001b[0;34m=\u001b[0m\u001b[0;34m'0.23.2'\u001b[0m\u001b[0;34m\u001b[0m\u001b[0;34m\u001b[0m\u001b[0m\n",
      "\u001b[0;31mKeyError\u001b[0m: 'Accuracy'"
     ]
    }
   ],
   "source": [
    "model = Model.register(workspace=ws\n",
    "                       ,model_path='../trained_models/diabetes_model.pkl'\n",
    "                       ,model_name='Diabetes_Classifier'\n",
    "                       ,description='First trained model with Azure ML'\n",
    "                       ,tags={'data-format': 'csv'}\n",
    "                       ,properties={'Accuracy': run.get_metrics()['Accuracy']}\n",
    "                       ,model_framework=Model.Framework.SCIKITLEARN  # Framework used to create the model.\n",
    "                       ,model_framework_version='0.23.2'\n",
    "                       ,datasets=[('training_data', tab_ds)]\n",
    "                       )"
   ]
  },
  {
   "cell_type": "code",
   "execution_count": null,
   "metadata": {},
   "outputs": [],
   "source": []
  },
  {
   "cell_type": "code",
   "execution_count": null,
   "metadata": {},
   "outputs": [],
   "source": []
  }
 ],
 "metadata": {
  "kernel_info": {
   "name": "python3-azureml"
  },
  "kernelspec": {
   "display_name": "azure_dp_100",
   "language": "python",
   "name": "azure_dp_100"
  },
  "language_info": {
   "codemirror_mode": {
    "name": "ipython",
    "version": 3
   },
   "file_extension": ".py",
   "mimetype": "text/x-python",
   "name": "python",
   "nbconvert_exporter": "python",
   "pygments_lexer": "ipython3",
   "version": "3.6.12"
  },
  "nteract": {
   "version": "nteract-front-end@1.0.0"
  }
 },
 "nbformat": 4,
 "nbformat_minor": 2
}
